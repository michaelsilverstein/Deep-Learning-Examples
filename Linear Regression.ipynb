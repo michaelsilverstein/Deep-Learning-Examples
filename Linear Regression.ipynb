{
 "cells": [
  {
   "cell_type": "markdown",
   "metadata": {},
   "source": [
    "# Linear Regression: A foray into machine Learning\n",
    "by Michael Silverstein\n",
    "msilvers@broadinstitute.org\n",
    "github.com/michaelsilverstein/\n",
    "\n",
    "While a relatively simple concept, linear regression, or fitting a line to a set of data, serves as a great conduit to a far more complex idea: machine learning. Here I outline how to generate a noisy-linear data set, learn features from that data set, and predict a line of best fit through that dataset in hopes of recovering the original linear relationship.\n"
   ]
  },
  {
   "cell_type": "markdown",
   "metadata": {},
   "source": [
    "\n"
   ]
  },
  {
   "cell_type": "code",
   "execution_count": null,
   "metadata": {
    "collapsed": true
   },
   "outputs": [],
   "source": []
  }
 ],
 "metadata": {
  "kernelspec": {
   "display_name": "Python 2",
   "language": "python",
   "name": "python2"
  },
  "language_info": {
   "codemirror_mode": {
    "name": "ipython",
    "version": 2
   },
   "file_extension": ".py",
   "mimetype": "text/x-python",
   "name": "python",
   "nbconvert_exporter": "python",
   "pygments_lexer": "ipython2",
   "version": "2.7.11"
  }
 },
 "nbformat": 4,
 "nbformat_minor": 2
}
